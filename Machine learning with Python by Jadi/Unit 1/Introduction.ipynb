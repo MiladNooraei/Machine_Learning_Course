{
 "cells": [
  {
   "cell_type": "markdown",
   "metadata": {},
   "source": [
    "✅ **Machine learning**\n",
    "\n",
    "Machine Learning is the subfield of computer science that gives computers the ability to learn without being explicitly programmed!<br>\n",
    "Two famous types of machine learning are : <br>\n",
    "- Supervised Learning\n",
    "- Unsupervised Learning"
   ]
  },
  {
   "cell_type": "markdown",
   "metadata": {},
   "source": [
    "<div class=\"alert alert-block alert-info\">\n",
    "<b>1:</b> Supervised Learning</div>"
   ]
  },
  {
   "cell_type": "markdown",
   "metadata": {},
   "source": [
    "In **supervised learning**, the algorithm is trained on *labeled data*, where the input features and their corresponding outputs are known.<br>\n",
    "Supervised learning algorithms are categorized into two types: \n",
    "1. Classification \n",
    "2. Regression \n",
    "\n",
    "Both classification and regression require labeled data, and the algorithm learns to make predictions based on these labels. However, there are slight differences between these labels.\n",
    "\n",
    "- In <code style=\"background:yellow;color:black\">classification</code>, our goal is to find the appropriate label or category for unlabeled samples. To achieve this, we train a machine learning model using labeled samples. Based on this learning, the machine learning model can divide datasets into different classes. The best example to better understand classification is filtering emails into two categories: spam and non-spam.\n",
    "\n",
    "![spam_detection](https://github.com/MiladNooraei/Machine-Learning-Course/assets/108691050/3e40a9ec-ae09-4d2f-8592-8031c7db0156)\n",
    "\n",
    "- In <code style=\"background:yellow;color:black\">regression</code>, our goal is to estimate the value of a continuous feature for a sample. These algorithms are used to predict trends in the market, house prices, and other examples. For instance, in predicting house prices, we can use information from other houses to estimate the price of a specific house. Features such as area size, number of rooms, presence or absence of parking or a yard, and other influential factors on house prices can be used as input information to the algorithm.\n",
    "\n",
    "![regression](https://github.com/MiladNooraei/Machine-Learning-Course/assets/108691050/fc0bfac4-f758-4471-8842-fe847d8fb445)\n",
    "\n",
    "***NOTE!!!***\n",
    "<u>In classification algorithms, the labels we want to predict are discrete variables. In contrast, in regression algorithms, unlike classification, the labels we want to predict are continuous variables.</u>"
   ]
  },
  {
   "cell_type": "markdown",
   "metadata": {},
   "source": [
    "<div class=\"alert alert-block alert-danger\">\n",
    "<b>2:</b> Unsupervised Learning</div>"
   ]
  },
  {
   "cell_type": "markdown",
   "metadata": {},
   "source": [
    "On the other hand, **unsupervised learning** deals with *unlabeled data*, and the algorithm tries to find patterns and structures in the data without explicit guidance.<br>\n",
    "- The difference in this type of learning compared to supervised learning lies solely in the absence of labels. In other words, there is no supervisor (labels) telling the child (computer) when it has made the right prediction and when it has made a mistake. In this learning approach, the model must find hidden patterns autonomously and without the help of labels, which are commonly used in supervised learning.<br>\n",
    "- The most famous unsupervised machine learning algorithm is <code style=\"background:green;color:black\">Clustering</code>, in which the model discovers hidden patterns among unlabeled data without human intervention. Clustering aims to group similar data points together based on their similarities, helping to reveal underlying structures or relationships within the data.\n",
    "\n",
    "![Unsupervised-learning](https://github.com/MiladNooraei/Machine-Learning-Course/assets/108691050/8357f3ca-68b8-486b-9cdb-8683b2bc4f36)"
   ]
  }
 ],
 "metadata": {
  "language_info": {
   "name": "python"
  },
  "orig_nbformat": 4
 },
 "nbformat": 4,
 "nbformat_minor": 2
}
