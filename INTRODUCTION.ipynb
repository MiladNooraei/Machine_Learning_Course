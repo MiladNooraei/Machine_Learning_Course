{
 "cells": [
  {
   "cell_type": "markdown",
   "metadata": {},
   "source": [
    "✅ **Machine learning**\n",
    "\n",
    "Machine Learning is the subfield of computer science that gives computers the ability to learn without being explicitly programmed!<br>\n",
    "\n",
    "![ml](https://github.com/MiladNooraei/Machine-Learning-Course/assets/108691050/b7a3be6e-f217-4a2a-a389-fc9eae657cd9)\n",
    "\n",
    "Three famous types of machine learning are : <br>\n",
    "\n",
    "- Supervised Learning\n",
    "- Unsupervised Learning\n",
    "- Reinforcement Learning\n",
    "\n",
    "![Machine Learning](https://github.com/MiladNooraei/Machine-Learning-Course/assets/108691050/f8a288b2-ccee-47f3-bbe8-ff414789790e)"
   ]
  },
  {
   "cell_type": "markdown",
   "metadata": {},
   "source": [
    "<div class=\"alert alert-block alert-info\">\n",
    "<b>1:</b> Supervised Learning</div>"
   ]
  },
  {
   "cell_type": "markdown",
   "metadata": {},
   "source": [
    "In **supervised learning**, the algorithm is trained on *labeled data*, where the input features and their corresponding outputs are known.<br>\n",
    "Supervised learning algorithms are categorized into two types: \n",
    "1. Classification \n",
    "2. Regression \n",
    "\n",
    "Both classification and regression require labeled data, and the algorithm learns to make predictions based on these labels. However, there are slight differences between these labels.\n",
    "\n",
    "- In <code style=\"background:yellow;color:black\">classification</code>, our goal is to find the appropriate label or category for unlabeled samples. To achieve this, we train a machine learning model using labeled samples. Based on this learning, the machine learning model can divide datasets into different classes. The best example to better understand classification is filtering emails into two categories: spam and non-spam.\n",
    "\n",
    "![spam_detection](https://github.com/MiladNooraei/Machine-Learning-Course/assets/108691050/3e40a9ec-ae09-4d2f-8592-8031c7db0156)\n",
    "\n",
    "- In <code style=\"background:yellow;color:black\">regression</code>, our goal is to estimate the value of a continuous feature for a sample. These algorithms are used to predict trends in the market, house prices, and other examples. For instance, in predicting house prices, we can use information from other houses to estimate the price of a specific house. Features such as area size, number of rooms, presence or absence of parking or a yard, and other influential factors on house prices can be used as input information to the algorithm.\n",
    "\n",
    "![regression](https://github.com/MiladNooraei/Machine-Learning-Course/assets/108691050/fc0bfac4-f758-4471-8842-fe847d8fb445)\n",
    "\n",
    "***NOTE!!!***\n",
    "<u>In classification algorithms, the labels we want to predict are discrete variables. In contrast, in regression algorithms, unlike classification, the labels we want to predict are continuous variables.</u>"
   ]
  },
  {
   "cell_type": "markdown",
   "metadata": {},
   "source": [
    "<div class=\"alert alert-block alert-danger\">\n",
    "<b>2:</b> Unsupervised Learning</div>"
   ]
  },
  {
   "cell_type": "markdown",
   "metadata": {},
   "source": [
    "On the other hand, **unsupervised learning** deals with *unlabeled data*, and the algorithm tries to find patterns and structures in the data without explicit guidance.<br>\n",
    "- The difference in this type of learning compared to supervised learning lies solely in the absence of labels. In other words, there is no supervisor (labels) telling the child (computer) when it has made the right prediction and when it has made a mistake. In this learning approach, the model must find hidden patterns autonomously and without the help of labels, which are commonly used in supervised learning.<br>\n",
    "- The most famous unsupervised machine learning algorithm is <code style=\"background:green;color:black\">Clustering</code>, in which the model discovers hidden patterns among unlabeled data without human intervention. Clustering aims to group similar data points together based on their similarities, helping to reveal underlying structures or relationships within the data.\n",
    "\n",
    "![Unsupervised-learning](https://github.com/MiladNooraei/Machine-Learning-Course/assets/108691050/8357f3ca-68b8-486b-9cdb-8683b2bc4f36)"
   ]
  },
  {
   "cell_type": "markdown",
   "metadata": {},
   "source": [
    "<div class=\"alert alert-block alert-success\">\n",
    "<b>3:</b> Reinforcement Learning\n",
    "</div>"
   ]
  },
  {
   "cell_type": "markdown",
   "metadata": {},
   "source": [
    "**Reinforcement** learning is one of the machine learning approaches that operates based on a trial-and-error mindset. An intelligent agent takes actions according to the current state and receives feedback in the form of rewards. These rewards can be positive or negative (rewards or punishments), and the agent adjusts its policy based on this feedback.\n",
    "\n",
    "![Reinforcement learning](https://github.com/MiladNooraei/Machine-Learning-Course/assets/108691050/03c1a3ca-ca2a-43d4-bf97-a2a7c37f3e06)\n",
    "\n",
    "\n",
    "\n",
    "- This method of learning is closest to human learning. A child constantly tries to learn how to walk, and their parents try to help them learn by encouraging them. Humans go through a similar process when learning to speak.\n",
    "\n",
    "- Unlike supervised and unsupervised learning, reinforcement learning is not dependent on data. Instead, it learns through interaction with the environment."
   ]
  },
  {
   "cell_type": "markdown",
   "metadata": {},
   "source": [
    "<div class=\"alert alert-block alert-warning\">\n",
    "<b>Additional Notes:</b>\n",
    "</div>"
   ]
  },
  {
   "cell_type": "markdown",
   "metadata": {},
   "source": [
    "🛑 **Model ->**\n",
    "- In machine learning, a model is like a mathematical algorithm or a set of rules that a computer uses to make predictions or decisions based on data it has been trained on. Imagine it as a virtual brain that learns from examples and then uses that knowledge to solve specific problems.\n",
    "- Think of a model as a recipe for making a cake. The recipe tells you the exact steps to follow, such as what ingredients to mix, how long to bake it, and at what temperature. Similarly, a machine learning model is designed to follow specific rules based on the data it has seen during training.\n",
    "- During training, the model is presented with a large dataset that contains examples of inputs (like features of the cake) and their corresponding outputs (like the final taste of the cake). It learns from these examples, adjusting its internal parameters, just like a baker might learn from experience to improve the cake's taste.\n",
    "- Once the model has learned from the data, it can be used to make predictions or decisions on new, unseen data. This is similar to using the trained cake recipe to bake a new cake with slightly different ingredients. The model's goal is to provide accurate predictions or make decisions based on the patterns it has learned from the training data.\n",
    "\n",
    "🛑 **Learning Evaluation | Training and Test Data ->**\n",
    "- Now we became familiar with various supervised learning methods. However, how can we be sure that a model performs well on new data? Let's assume that for an exam, you have access to a set of sample questions from previous exams, and by studying them, you become proficient in answering all the questions in this sample. However, your true learning level is not determined based on your accuracy in answering questions for which you already know the answers; instead, it is determined by your final exam score, which reflects your overall understanding.\n",
    "- Similarly, to evaluate the performance of a trained model (or, in other words, its performance metric \"p\"), we need to test its answers on new data. Just like in an exam, where you might excel in some questions and not in others, using a single question to assess your learning level would be inaccurate. Therefore, the best approach is to use a large number of diverse questions and then calculate the model's accuracy on all of them. For this reason, some data is set aside for evaluation purposes, while the rest is used for training the model. The data used for training is called the training data, and the data used for evaluation is called the test data.\n",
    "- Note: The term \"p\" here refers to the performance metric or evaluation measure used for the model. It could be accuracy, precision, recall, F1-score, etc., depending on the problem and the evaluation needs.\n",
    "\n",
    "![test](https://github.com/MiladNooraei/Machine-Learning-Course/assets/108691050/764b8623-4436-4736-ad0b-ae8c6875cba4)"
   ]
  }
 ],
 "metadata": {
  "language_info": {
   "name": "python"
  },
  "orig_nbformat": 4
 },
 "nbformat": 4,
 "nbformat_minor": 2
}
