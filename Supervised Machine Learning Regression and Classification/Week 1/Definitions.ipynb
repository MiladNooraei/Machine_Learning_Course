{
 "cells": [
  {
   "cell_type": "markdown",
   "metadata": {},
   "source": [
    "**<h1>📌 What is Machine Learning?!</h1>**\n",
    "\n",
    "<code style = \"background:yellow;color:black\">Arthur Samuel</code> defined machine learning as the field of study that gives computers the ability to learn without being explicitly programmed.\n",
    "\n",
    "- In the 1950s, Arthur Samuel gained fame for creating a checkers program that learned to play well through self-play. Despite Samuel not being skilled at checkers, the program improved by analyzing its wins and losses in tens of thousands of self-played games, eventually surpassing Samuel's own abilities.\n",
    "\n",
    "![checkers_figure10](https://github.com/MiladNooraei/Machine-Learning-Course/assets/108691050/8c69f4ed-63da-46c5-bdd4-4134b7eeecdc)\n",
    "\n",
    "✅ Some types of machine learning are:\n",
    "1. <span style=\"color:red\">Supervised Learning</span> -> Supervised learning is the top choice for many real-world applications and has experienced remarkable advancements.\n",
    "2. <span style=\"color:red\">Unsupervised Learning</span>\n",
    "3. <span style=\"color:red\">Recommender Systems</span>\n",
    "4. <span style=\"color:red\">Reinforcement Learning</span>"
   ]
  },
  {
   "cell_type": "markdown",
   "metadata": {},
   "source": [
    "<div class=\"alert alert-block alert-info\"><b>Supervised Learning:</b></div>"
   ]
  },
  {
   "cell_type": "markdown",
   "metadata": {},
   "source": [
    "<code style = \"background:yellow;color:black\">Supervised machine learning</code> is a dominant force in today's economy, underpinning a vast majority of machine learning's economic impact. At its core, it revolves around algorithms that learn to map input data (x) to corresponding output predictions (y), leveraging the invaluable resource of labeled datasets containing known correct answers (y) for given inputs (x). This approach, known as supervised learning, enables algorithms to gradually become proficient at making precise predictions or inferences, ultimately reducing their reliance on explicit output labels. Let's delve deeper into this concept by exploring two primary categories within supervised learning: regression and classification.\n",
    "\n",
    "1. **<span style=\"color:red\">Regression:</span>** One fundamental facet of supervised learning is regression, which excels at predicting numerical values from a spectrum of possibilities. For instance, it can forecast housing prices, a task that involves finding the most suitable curve or model to make accurate predictions based on variables like house size. Regression algorithms work tirelessly to uncover relationships in the data and create mathematical representations that capture these intricate patterns.\n",
    "\n",
    "2. **<span style=\"color:red\">Classification:</span>** On the other hand, there's classification, another pivotal branch of supervised learning. In classification problems, the algorithm's role is to categorize input data into predefined classes or categories. A quintessential example is in medical diagnosis, where the algorithm determines whether a tumor is benign (0) or malignant (1). Unlike regression, classification deals with a finite set of output categories, each representing a distinct class. The algorithm learns to establish boundaries that segregate these classes based on the provided input features.\n",
    "\n",
    "Inputs to supervised learning algorithms can vary in complexity and may include multiple features. For instance, in the context of breast cancer detection, alongside tumor size, patient age and other relevant factors can be incorporated to enhance prediction accuracy. The essence of supervised learning remains consistent: mapping input data (x) to output predictions (y) by learning from labeled examples.\n",
    "\n",
    "✅ *In conclusion, supervised machine learning, with its core tenets of regression and classification, empowers algorithms to learn from labeled data, making accurate predictions and decisions. This versatile approach finds applications across diverse fields, including email spam filtering, speech recognition, healthcare diagnostics, autonomous vehicles, and quality control in manufacturing. Supervised learning, with its ability to harness the knowledge contained in labeled datasets, stands as an indispensable asset in our ever-evolving technological landscape, driving progress and innovation across various domains.*"
   ]
  },
  {
   "cell_type": "markdown",
   "metadata": {},
   "source": [
    "<div class=\"alert alert-block alert-danger\"><b>Unsupervised Learning:</b></div>"
   ]
  },
  {
   "cell_type": "markdown",
   "metadata": {},
   "source": [
    "<code style = \"background:yellow;color:black\">Unsupervised learning</code> is a fascinating branch of machine learning where the data lacks output labels (y). Unlike supervised learning, where we guide the algorithm to provide specific answers, unsupervised learning tasks involve uncovering patterns, structures, or insights within the data independently. \n",
    "\n",
    "- One common technique in unsupervised learning is clustering, exemplified by Google News grouping related articles based on shared keywords. The algorithm autonomously identifies clusters of similar data points without prior human-defined categories.\n",
    "\n",
    "- Another application is seen in genetic or DNA data analysis, where researchers use clustering to group individuals with similar genetic profiles, shedding light on various traits or characteristics.\n",
    "\n",
    "- Market segmentation is another example where customer data is analyzed to categorize customers into different segments based on their behavior or preferences. This segmentation allows companies to tailor their services more efficiently.\n",
    "\n",
    "However, it's crucial to differentiate unsupervised learning from supervised learning. In supervised learning, labeled data is available to train the algorithm explicitly, whereas unsupervised learning operates with unlabeled data, requiring the algorithm to uncover inherent structures.\n",
    "\n",
    "Beyond <u>clustering(group similar data points together)</u>, unsupervised learning encompasses other techniques like <u>anomaly detection</u>, vital for finding unusual data points, and <u>dimensionality reduction</u>, useful for compressing large datasets while retaining essential information.\n",
    "\n",
    "✅ *In summary, unsupervised learning is about discovering hidden patterns in unlabeled data, with clustering being one of its prominent applications. This specialization also delves into anomaly detection and dimensionality reduction, broadening the scope of unsupervised learning techniques.*"
   ]
  }
 ],
 "metadata": {
  "language_info": {
   "name": "python"
  },
  "orig_nbformat": 4
 },
 "nbformat": 4,
 "nbformat_minor": 2
}
